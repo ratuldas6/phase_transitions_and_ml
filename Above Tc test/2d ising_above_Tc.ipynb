{
 "cells": [
  {
   "cell_type": "code",
   "execution_count": 1,
   "metadata": {},
   "outputs": [],
   "source": [
    "import numpy as np\n",
    "import random\n",
    "import matplotlib.pyplot as plt"
   ]
  },
  {
   "cell_type": "code",
   "execution_count": 2,
   "metadata": {},
   "outputs": [],
   "source": [
    "# Define the constants\n",
    "J = 1 # Coupling constant\n",
    "kB = 1 # Boltzmann constant\n",
    "\n",
    "# Define the lattice size\n",
    "L = 20 # Lattice size\n",
    "N = L * L # Total number of spins\n",
    "\n",
    "# Define the spin matrix\n",
    "spin_matrix = np.random.choice([-1, 1], size=(L, L))\n",
    "\n",
    "# Define the energy function\n",
    "def calc_energy(spin_matrix):\n",
    "    energy = 0\n",
    "    for i in range(L):\n",
    "        for j in range(L):\n",
    "            energy += -J * spin_matrix[i, j] * (spin_matrix[(i+1)%L, j] + spin_matrix[i, (j+1)%L])\n",
    "    return energy\n",
    "\n",
    "# Define the Monte Carlo algorithm\n",
    "def monte_carlo(spin_matrix, T):\n",
    "    for i in range(N):\n",
    "        x, y = np.random.randint(0, L), np.random.randint(0, L)\n",
    "        delta_E = 2 * J * spin_matrix[x, y] * (spin_matrix[(x+1)%L, y] + spin_matrix[x, (y+1)%L])\n",
    "        if np.random.uniform(0, 1) <= np.exp(-delta_E / (kB * T)):\n",
    "            spin_matrix[x, y] *= -1\n",
    "    return spin_matrix"
   ]
  },
  {
   "cell_type": "code",
   "execution_count": 3,
   "metadata": {},
   "outputs": [],
   "source": [
    "Ti_1 = 0\n",
    "Ti_2 = 5\n",
    "temp_increment = 0.2\n",
    "T_1 = 3\n",
    "n = 5\n",
    "\n",
    "for temp in range(Ti_1, Ti_2):\n",
    "    T = T_1 + temp*temp_increment\n",
    "    for i in range(0,n):\n",
    "        # Run the simulation\n",
    "        steps = 1000\n",
    "        for step in range(steps):\n",
    "            spin_matrix = monte_carlo(spin_matrix, T)\n",
    "        np.savetxt('dat_'+str(int(T*100)) + '_' + str(i+1) + '.txt', spin_matrix)"
   ]
  }
 ],
 "metadata": {
  "kernelspec": {
   "display_name": "Python 3.9.7 ('2022.0.2')",
   "language": "python",
   "name": "python3"
  },
  "language_info": {
   "codemirror_mode": {
    "name": "ipython",
    "version": 3
   },
   "file_extension": ".py",
   "mimetype": "text/x-python",
   "name": "python",
   "nbconvert_exporter": "python",
   "pygments_lexer": "ipython3",
   "version": "3.10.10"
  },
  "orig_nbformat": 4,
  "vscode": {
   "interpreter": {
    "hash": "0182a174fd1fd0dc22c265bb464a4292237663086b77b56a21b798960cbe27fc"
   }
  }
 },
 "nbformat": 4,
 "nbformat_minor": 2
}
